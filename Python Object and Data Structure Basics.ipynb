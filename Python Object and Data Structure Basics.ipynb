{
 "cells": [
  {
   "cell_type": "code",
   "execution_count": 214,
   "metadata": {},
   "outputs": [],
   "source": [
    "# Data type in python :\n",
    "# int : 1, 2, 3\n",
    "# float : 2.3, 6.5, 9.6\n",
    "# str : 'hello', 'mohammad rayhan', 'cgpa 4 lol'\n",
    "# list : [ 10, 'hello', 200]\n",
    "# dict : {\"dollar\":84, \"upoma\":40}\n",
    "# tuple : ( 10, 'Hello', 500 )\n",
    "# set : { 'a', 'b' }\n",
    "# bool : True / False"
   ]
  },
  {
   "cell_type": "code",
   "execution_count": 215,
   "metadata": {},
   "outputs": [
    {
     "name": "stdout",
     "output_type": "stream",
     "text": [
      "addition 2+3 :\n",
      "5\n",
      "substraction 9-6 :\n",
      "3\n",
      "multiplication 5*3 :\n",
      "15\n",
      "division 9/3 :\n",
      "3.0\n",
      "division 9/3 :\n",
      "3\n"
     ]
    }
   ],
   "source": [
    "# basic addition,substraction,multiplication,division\n",
    "print(\"addition 2+3 :\")\n",
    "print(2+3)\n",
    "print(\"substraction 9-6 :\")\n",
    "print(9-6)\n",
    "print('multiplication 5*3 :')\n",
    "print(5*3)\n",
    "print('division 9/3 :')\n",
    "print(9/3) # print floating value\n",
    "print('division 9/3 :')\n",
    "print(9//3) # print integer value"
   ]
  },
  {
   "cell_type": "code",
   "execution_count": 216,
   "metadata": {},
   "outputs": [
    {
     "name": "stdout",
     "output_type": "stream",
     "text": [
      "2\n",
      "0\n"
     ]
    }
   ],
   "source": [
    "# module / mod %\n",
    "print(50%3)\n",
    "print(24%2)\n",
    "# this is the extra value in division"
   ]
  },
  {
   "cell_type": "code",
   "execution_count": 217,
   "metadata": {},
   "outputs": [
    {
     "name": "stdout",
     "output_type": "stream",
     "text": [
      "8\n",
      "9\n",
      "* is the asterisk sign \n"
     ]
    }
   ],
   "source": [
    "# power\n",
    "print(2**3)\n",
    "print(3**2) \n",
    "print(\"* is the asterisk sign \")"
   ]
  },
  {
   "cell_type": "code",
   "execution_count": 218,
   "metadata": {},
   "outputs": [
    {
     "name": "stdout",
     "output_type": "stream",
     "text": [
      "Dollar\n"
     ]
    }
   ],
   "source": [
    "# Dynamic Typing in Python\n",
    "my_name='Rayhan'\n",
    "my_name='Dollar'\n",
    "print(my_name)"
   ]
  },
  {
   "cell_type": "code",
   "execution_count": 219,
   "metadata": {},
   "outputs": [
    {
     "name": "stdout",
     "output_type": "stream",
     "text": [
      "12500.0\n"
     ]
    }
   ],
   "source": [
    "# example of multiplication\n",
    "my_income=50000\n",
    "tax_rate=0.25\n",
    "my_salary=my_income*tax_rate\n",
    "print(my_salary)"
   ]
  },
  {
   "cell_type": "code",
   "execution_count": 220,
   "metadata": {},
   "outputs": [
    {
     "name": "stdout",
     "output_type": "stream",
     "text": [
      "<class 'int'>\n",
      "<class 'float'>\n",
      "<class 'str'>\n"
     ]
    }
   ],
   "source": [
    "# types in python\n",
    "a=5\n",
    "print(type(a))\n",
    "b=5.6\n",
    "print(type(b))\n",
    "c='rayhan'\n",
    "print(type(c))"
   ]
  },
  {
   "cell_type": "code",
   "execution_count": 221,
   "metadata": {},
   "outputs": [
    {
     "name": "stdout",
     "output_type": "stream",
     "text": [
      "my name is rayhan\n",
      "my father name is osman\n"
     ]
    }
   ],
   "source": [
    "# \\n means newline\n",
    "print('my name is rayhan\\nmy father name is osman') "
   ]
  },
  {
   "cell_type": "code",
   "execution_count": 222,
   "metadata": {},
   "outputs": [
    {
     "name": "stdout",
     "output_type": "stream",
     "text": [
      "my name is rayhan\t my father name is osman\n"
     ]
    }
   ],
   "source": [
    "# \\t means tab\n",
    "print('my name is rayhan\\t my father name is osman')"
   ]
  },
  {
   "cell_type": "code",
   "execution_count": 223,
   "metadata": {},
   "outputs": [
    {
     "data": {
      "text/plain": [
       "6"
      ]
     },
     "execution_count": 223,
     "metadata": {},
     "output_type": "execute_result"
    }
   ],
   "source": [
    "# len means Length\n",
    "len(\"Rayhan\") #len :function"
   ]
  },
  {
   "cell_type": "code",
   "execution_count": 224,
   "metadata": {},
   "outputs": [
    {
     "name": "stdout",
     "output_type": "stream",
     "text": [
      "4\n",
      "7\n",
      "456789\n",
      "123\n",
      "45678\n",
      "123456789\n",
      "13579\n",
      "36\n",
      "123456789\n",
      "987654321\n",
      "963\n"
     ]
    }
   ],
   "source": [
    "# Indexing & Slicing with String\n",
    "# Index Position\n",
    "mystring='123456789'\n",
    "print(mystring[3])\n",
    "print(mystring[-3])\n",
    "print(mystring[3:])\n",
    "print(mystring[:3])\n",
    "print(mystring[3:8])\n",
    "print(mystring[::])\n",
    "print(mystring[::2])\n",
    "print(mystring[2:7:3])\n",
    "print(mystring[::1])\n",
    "print(mystring[::-1])\n",
    "print(mystring[::-3])"
   ]
  },
  {
   "cell_type": "code",
   "execution_count": 225,
   "metadata": {},
   "outputs": [],
   "source": [
    "#String position and Methods"
   ]
  },
  {
   "cell_type": "code",
   "execution_count": 226,
   "metadata": {},
   "outputs": [
    {
     "name": "stdout",
     "output_type": "stream",
     "text": [
      "Mayhan\n"
     ]
    }
   ],
   "source": [
    "# string concatenation\n",
    "name=\"Rayhan\"\n",
    "human=name[1:]\n",
    "print(\"M\"+human)"
   ]
  },
  {
   "cell_type": "code",
   "execution_count": 227,
   "metadata": {},
   "outputs": [
    {
     "name": "stdout",
     "output_type": "stream",
     "text": [
      "Bangladeshis a small country\n"
     ]
    }
   ],
   "source": [
    "country=\"Bangladesh\"\n",
    "print(country+ \"is a small country\")"
   ]
  },
  {
   "cell_type": "code",
   "execution_count": 228,
   "metadata": {},
   "outputs": [
    {
     "name": "stdout",
     "output_type": "stream",
     "text": [
      "DDDDD\n"
     ]
    }
   ],
   "source": [
    "letter='D'\n",
    "print(letter*5)"
   ]
  },
  {
   "cell_type": "code",
   "execution_count": 229,
   "metadata": {},
   "outputs": [
    {
     "name": "stdout",
     "output_type": "stream",
     "text": [
      "MD\n",
      "56\n"
     ]
    }
   ],
   "source": [
    "print(\"M\"+\"D\")\n",
    "print(\"5\"+\"6\")"
   ]
  },
  {
   "cell_type": "code",
   "execution_count": 230,
   "metadata": {},
   "outputs": [
    {
     "name": "stdout",
     "output_type": "stream",
     "text": [
      "MY NAME IS MOHAMMAD RAYHAN\n",
      "my name is mohammad rayhan\n",
      "['my', 'name', 'is', 'Mohammad', 'Rayhan']\n",
      "['my n', 'me is Moh', 'mm', 'd R', 'yh', 'n']\n"
     ]
    }
   ],
   "source": [
    "Q=\"my name is Mohammad Rayhan\"\n",
    "print(Q.upper())\n",
    "print(Q.lower())\n",
    "print(Q.split())\n",
    "print(Q.split('a'))"
   ]
  },
  {
   "cell_type": "code",
   "execution_count": 231,
   "metadata": {},
   "outputs": [
    {
     "name": "stdout",
     "output_type": "stream",
     "text": [
      "INSTITUTE OF SCIENCE & TECHNOLOGY\n"
     ]
    }
   ],
   "source": [
    "G='Institute of science & technology'\n",
    "H=G.upper()\n",
    "print(H)"
   ]
  },
  {
   "cell_type": "code",
   "execution_count": 232,
   "metadata": {},
   "outputs": [],
   "source": [
    "# print formating with strings\n",
    "# .format\n",
    "# f-string"
   ]
  },
  {
   "cell_type": "code",
   "execution_count": 233,
   "metadata": {},
   "outputs": [
    {
     "name": "stdout",
     "output_type": "stream",
     "text": [
      "my name is Rayhan & my father name is Osman\n"
     ]
    }
   ],
   "source": [
    "# .format\n",
    "print('my name is {a} & my father name is {b}'.format(a='Rayhan',b='Osman'))"
   ]
  },
  {
   "cell_type": "code",
   "execution_count": 234,
   "metadata": {},
   "outputs": [
    {
     "name": "stdout",
     "output_type": "stream",
     "text": [
      "The result is 1.2987012987012987\n",
      "The result is 1.299\n",
      "The result is      1.299\n"
     ]
    }
   ],
   "source": [
    "# .format in number \n",
    "result = 100/77\n",
    "print(\"The result is {a}\".format(a=result))\n",
    "print(\"The result is {a:1.3f}\".format(a=result))\n",
    "print(\"The result is {a:10.3f}\".format(a=result))"
   ]
  },
  {
   "cell_type": "code",
   "execution_count": 235,
   "metadata": {},
   "outputs": [
    {
     "name": "stdout",
     "output_type": "stream",
     "text": [
      "my name is Rayhan\n",
      "my father name is Osman & he is a Doctor\n"
     ]
    }
   ],
   "source": [
    "# f-string\n",
    "d='Rayhan'\n",
    "e='Osman'\n",
    "h='Doctor'\n",
    "print(f\"my name is {d}\")\n",
    "print(f'my father name is {e} & he is a {h}')"
   ]
  },
  {
   "cell_type": "code",
   "execution_count": 236,
   "metadata": {},
   "outputs": [
    {
     "name": "stdout",
     "output_type": "stream",
     "text": [
      "['dollar', 100, 23.5]\n",
      "3\n",
      "dollar\n",
      "[100, 23.5]\n"
     ]
    }
   ],
   "source": [
    "# list in python\n",
    "my_list=['dollar',100,23.5]\n",
    "print(my_list)\n",
    "print(len(my_list))\n",
    "print(my_list[0])\n",
    "print(my_list[1:])"
   ]
  },
  {
   "cell_type": "code",
   "execution_count": 267,
   "metadata": {},
   "outputs": [
    {
     "name": "stdout",
     "output_type": "stream",
     "text": [
      "[1, 2, 3, 4, 5, 6]\n"
     ]
    }
   ],
   "source": [
    "#list\n",
    "list1=[1,2,3]\n",
    "list2=[4,5,6]\n",
    "list3=list1+list2\n",
    "print(list3)"
   ]
  },
  {
   "cell_type": "code",
   "execution_count": 268,
   "metadata": {},
   "outputs": [
    {
     "name": "stdout",
     "output_type": "stream",
     "text": [
      "[1, 2, 3, 4, 5, 6]\n",
      "['Dollar', 2, 3, 4, 5, 6]\n"
     ]
    }
   ],
   "source": [
    "# list\n",
    "print(list3)\n",
    "list3[0]='Dollar'\n",
    "print(list3) # change index position value"
   ]
  },
  {
   "cell_type": "code",
   "execution_count": 239,
   "metadata": {},
   "outputs": [],
   "source": [
    "# 4 method in python\n",
    "# .append\n",
    "# .pop\n",
    "# .sort\n",
    "# .reverse"
   ]
  },
  {
   "cell_type": "code",
   "execution_count": 240,
   "metadata": {},
   "outputs": [
    {
     "name": "stdout",
     "output_type": "stream",
     "text": [
      "['a', 'b', 'c', 'd']\n"
     ]
    }
   ],
   "source": [
    "# .append method\n",
    "list01=[\"a\",\"b\",\"c\"]\n",
    "list01.append(\"d\")\n",
    "print(list01)"
   ]
  },
  {
   "cell_type": "code",
   "execution_count": 241,
   "metadata": {},
   "outputs": [
    {
     "name": "stdout",
     "output_type": "stream",
     "text": [
      "['a', 'c']\n"
     ]
    }
   ],
   "source": [
    "# .pop method\n",
    "list02=[\"a\",\"b\",\"c\"]\n",
    "list02.pop(1)\n",
    "print(list02)"
   ]
  },
  {
   "cell_type": "code",
   "execution_count": 242,
   "metadata": {},
   "outputs": [
    {
     "name": "stdout",
     "output_type": "stream",
     "text": [
      "[1, 2, 3, 4, 5, 5, 6, 7]\n"
     ]
    }
   ],
   "source": [
    "# .sort method\n",
    "list03=[5,3,1,2,7,5,4,6]\n",
    "list03.sort()\n",
    "print(list03)"
   ]
  },
  {
   "cell_type": "code",
   "execution_count": 243,
   "metadata": {},
   "outputs": [
    {
     "name": "stdout",
     "output_type": "stream",
     "text": [
      "[9, 8, 7, 6, 5, 4, 3, 2, 1]\n"
     ]
    }
   ],
   "source": [
    "# .reverse method\n",
    "list04=[1,2,3,4,5,6,7,8,9]\n",
    "list04.reverse()\n",
    "print(list04)"
   ]
  },
  {
   "cell_type": "code",
   "execution_count": 244,
   "metadata": {},
   "outputs": [],
   "source": [
    "# Dictionaries in Python"
   ]
  },
  {
   "cell_type": "code",
   "execution_count": 245,
   "metadata": {},
   "outputs": [
    {
     "name": "stdout",
     "output_type": "stream",
     "text": [
      "{'apple': 50, 'mango': 70}\n",
      "50\n"
     ]
    }
   ],
   "source": [
    "# Dictionary\n",
    "prices={'apple':50,'mango':70}\n",
    "print(prices)\n",
    "print(prices['apple'])"
   ]
  },
  {
   "cell_type": "code",
   "execution_count": 246,
   "metadata": {},
   "outputs": [
    {
     "name": "stdout",
     "output_type": "stream",
     "text": [
      "[0, 1, 2]\n",
      "100\n"
     ]
    }
   ],
   "source": [
    "# Dictionary\n",
    "i={\"k1\":789,'k2':[0,1,2],\"k3\":{'inside_key':100}}\n",
    "print(i['k2'])\n",
    "print(i['k3']['inside_key'])"
   ]
  },
  {
   "cell_type": "code",
   "execution_count": 247,
   "metadata": {},
   "outputs": [
    {
     "name": "stdout",
     "output_type": "stream",
     "text": [
      "6\n"
     ]
    }
   ],
   "source": [
    "# Dictionary\n",
    "j={\"em\":[3,4,5,6,7,8,9]}\n",
    "print(j['em'][3]) # here 3 is the index position"
   ]
  },
  {
   "cell_type": "code",
   "execution_count": 248,
   "metadata": {},
   "outputs": [
    {
     "name": "stdout",
     "output_type": "stream",
     "text": [
      "D\n"
     ]
    }
   ],
   "source": [
    "j={\"keys1\":['a','b','c','d','e']}\n",
    "change=(j['keys1'][3]).upper()\n",
    "print(change)"
   ]
  },
  {
   "cell_type": "code",
   "execution_count": 249,
   "metadata": {},
   "outputs": [
    {
     "name": "stdout",
     "output_type": "stream",
     "text": [
      "{'key001': 10, 'key002': 20, 'key003': 30}\n"
     ]
    }
   ],
   "source": [
    "# add item in dictionary\n",
    "doll={\"key001\":10,\"key002\":20}\n",
    "doll[\"key003\"]=30\n",
    "print(doll)"
   ]
  },
  {
   "cell_type": "code",
   "execution_count": 250,
   "metadata": {},
   "outputs": [
    {
     "name": "stdout",
     "output_type": "stream",
     "text": [
      "{'a1': 40, 'a2': 60}\n",
      "{'a1': 20, 'a2': 60}\n"
     ]
    }
   ],
   "source": [
    "# change value in dictionary\n",
    "a={'a1':40,'a2':60}\n",
    "print(a)\n",
    "a['a1']=20\n",
    "print(a)"
   ]
  },
  {
   "cell_type": "code",
   "execution_count": 251,
   "metadata": {},
   "outputs": [
    {
     "name": "stdout",
     "output_type": "stream",
     "text": [
      "6\n",
      "1\n",
      "tuple object doesn't support item assignment\n"
     ]
    }
   ],
   "source": [
    "# Tuples in Python\n",
    "g=(1,2,2,3,2,4,5,2,6,3,5,2,2)\n",
    "print(g.count(2))\n",
    "print(g.index(2))\n",
    "print(\"tuple object doesn't support item assignment\")"
   ]
  },
  {
   "cell_type": "code",
   "execution_count": 252,
   "metadata": {},
   "outputs": [
    {
     "name": "stdout",
     "output_type": "stream",
     "text": [
      "{1, 2, 3, 4, 5, 'six'}\n"
     ]
    }
   ],
   "source": [
    "# Sets in Python\n",
    "a=[1,2,3,4,5]\n",
    "myset=set(a)\n",
    "myset.add('six')\n",
    "print(myset)"
   ]
  },
  {
   "cell_type": "code",
   "execution_count": 253,
   "metadata": {},
   "outputs": [
    {
     "data": {
      "text/plain": [
       "{1, 2, 3, 4, 5, 6}"
      ]
     },
     "execution_count": 253,
     "metadata": {},
     "output_type": "execute_result"
    }
   ],
   "source": [
    "myset=[1,1,2,2,3,3,4,4,5,6]\n",
    "set(myset)"
   ]
  },
  {
   "cell_type": "code",
   "execution_count": 254,
   "metadata": {},
   "outputs": [
    {
     "name": "stdout",
     "output_type": "stream",
     "text": [
      "False\n",
      "True\n",
      "True\n"
     ]
    }
   ],
   "source": [
    "# Booleans in Python\n",
    "print(2>5)\n",
    "print(4<6)\n",
    "print(4==4)"
   ]
  },
  {
   "cell_type": "code",
   "execution_count": 255,
   "metadata": {},
   "outputs": [],
   "source": [
    "# Input/Output Basic Files in Python"
   ]
  },
  {
   "cell_type": "code",
   "execution_count": 256,
   "metadata": {},
   "outputs": [
    {
     "name": "stdout",
     "output_type": "stream",
     "text": [
      "Overwriting abdurrakib.txt\n"
     ]
    }
   ],
   "source": [
    "%%writefile abdurrakib.txt\n",
    "he is very good student\n",
    "he is buetian"
   ]
  },
  {
   "cell_type": "code",
   "execution_count": 257,
   "metadata": {},
   "outputs": [
    {
     "data": {
      "text/plain": [
       "'he is very good student\\nhe is buetian'"
      ]
     },
     "execution_count": 257,
     "metadata": {},
     "output_type": "execute_result"
    }
   ],
   "source": [
    "myfile=open('abdurrakib.txt')\n",
    "myfile.read()"
   ]
  },
  {
   "cell_type": "code",
   "execution_count": 258,
   "metadata": {},
   "outputs": [
    {
     "data": {
      "text/plain": [
       "''"
      ]
     },
     "execution_count": 258,
     "metadata": {},
     "output_type": "execute_result"
    }
   ],
   "source": [
    "myfile.read() # get error"
   ]
  },
  {
   "cell_type": "code",
   "execution_count": 259,
   "metadata": {},
   "outputs": [
    {
     "data": {
      "text/plain": [
       "0"
      ]
     },
     "execution_count": 259,
     "metadata": {},
     "output_type": "execute_result"
    }
   ],
   "source": [
    "myfile.seek(0)"
   ]
  },
  {
   "cell_type": "code",
   "execution_count": 260,
   "metadata": {},
   "outputs": [
    {
     "data": {
      "text/plain": [
       "'he is very good student\\nhe is buetian'"
      ]
     },
     "execution_count": 260,
     "metadata": {},
     "output_type": "execute_result"
    }
   ],
   "source": [
    "myfile.read()"
   ]
  },
  {
   "cell_type": "code",
   "execution_count": 261,
   "metadata": {},
   "outputs": [
    {
     "name": "stdout",
     "output_type": "stream",
     "text": [
      "he is very good student\n",
      "he is buetian\n"
     ]
    }
   ],
   "source": [
    "myfile.seek(0)\n",
    "contents=myfile.read()\n",
    "print(contents)"
   ]
  },
  {
   "cell_type": "code",
   "execution_count": 262,
   "metadata": {},
   "outputs": [
    {
     "data": {
      "text/plain": [
       "['he is very good student\\n', 'he is buetian']"
      ]
     },
     "execution_count": 262,
     "metadata": {},
     "output_type": "execute_result"
    }
   ],
   "source": [
    "myfile.seek(0)\n",
    "myfile.readlines()"
   ]
  },
  {
   "cell_type": "code",
   "execution_count": 263,
   "metadata": {},
   "outputs": [],
   "source": [
    "# File location\n",
    "# Reading , Writing , Appending mode\n",
    "# mode='r' (read)\n",
    "# mode='w' (write)\n",
    "# mode='a' (append)\n",
    "# mode= 'r+' (reading & writing)\n",
    "# mode= 'w+' (writing & reading)"
   ]
  },
  {
   "cell_type": "code",
   "execution_count": 264,
   "metadata": {},
   "outputs": [
    {
     "name": "stdout",
     "output_type": "stream",
     "text": [
      "he is very good student\n",
      "he is buetian\n"
     ]
    }
   ],
   "source": [
    "with open(\"abdurrakib.txt\",mode='r') as f:\n",
    "    print(f.read())"
   ]
  },
  {
   "cell_type": "code",
   "execution_count": 265,
   "metadata": {},
   "outputs": [
    {
     "name": "stdout",
     "output_type": "stream",
     "text": [
      "15\n",
      "he is very good student\n",
      "he is buetian\n",
      "its a new line\n"
     ]
    }
   ],
   "source": [
    "with open('abdurrakib.txt',mode='a') as f:\n",
    "    print(f.write('\\nits a new line'))\n",
    "with open(\"abdurrakib.txt\",mode='r') as f:\n",
    "    print(f.read())"
   ]
  },
  {
   "cell_type": "code",
   "execution_count": 266,
   "metadata": {},
   "outputs": [
    {
     "name": "stdout",
     "output_type": "stream",
     "text": [
      "i created this line\n"
     ]
    }
   ],
   "source": [
    "with open('abc.txt',mode='w')as f:\n",
    "    f.write('i created this line')\n",
    "with open(\"abc.txt\",mode='r') as f:\n",
    "    print(f.read())"
   ]
  }
 ],
 "metadata": {
  "kernelspec": {
   "display_name": "Python 3",
   "language": "python",
   "name": "python3"
  },
  "language_info": {
   "codemirror_mode": {
    "name": "ipython",
    "version": 3
   },
   "file_extension": ".py",
   "mimetype": "text/x-python",
   "name": "python",
   "nbconvert_exporter": "python",
   "pygments_lexer": "ipython3",
   "version": "3.6.4"
  }
 },
 "nbformat": 4,
 "nbformat_minor": 2
}
