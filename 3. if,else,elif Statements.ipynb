{
 "cells": [
  {
   "cell_type": "code",
   "execution_count": 20,
   "metadata": {},
   "outputs": [],
   "source": [
    "# if , elif , else Statements"
   ]
  },
  {
   "cell_type": "code",
   "execution_count": 21,
   "metadata": {},
   "outputs": [
    {
     "name": "stdout",
     "output_type": "stream",
     "text": [
      "my name is Mohammad Rayhan\n"
     ]
    }
   ],
   "source": [
    "if True:\n",
    "    print('my name is Mohammad Rayhan')"
   ]
  },
  {
   "cell_type": "code",
   "execution_count": 22,
   "metadata": {},
   "outputs": [
    {
     "name": "stdout",
     "output_type": "stream",
     "text": [
      "this is my university\n"
     ]
    }
   ],
   "source": [
    "room=True\n",
    "if room:\n",
    "    print('this is my university')\n",
    "else:\n",
    "    print('room is true')"
   ]
  },
  {
   "cell_type": "code",
   "execution_count": 23,
   "metadata": {},
   "outputs": [
    {
     "name": "stdout",
     "output_type": "stream",
     "text": [
      "room is true\n"
     ]
    }
   ],
   "source": [
    "room=False\n",
    "if room:\n",
    "    print('this is my university')\n",
    "else:\n",
    "    print('room is true')"
   ]
  },
  {
   "cell_type": "code",
   "execution_count": 24,
   "metadata": {},
   "outputs": [
    {
     "name": "stdout",
     "output_type": "stream",
     "text": [
      "this is a school\n"
     ]
    }
   ],
   "source": [
    "student='school'\n",
    "if student=='class party':\n",
    "    print('this is reg day')\n",
    "elif student=='school':\n",
    "    print('this is a school')\n",
    "else:\n",
    "    print('i love coding')"
   ]
  },
  {
   "cell_type": "code",
   "execution_count": 25,
   "metadata": {},
   "outputs": [
    {
     "name": "stdout",
     "output_type": "stream",
     "text": [
      "i love coding\n"
     ]
    }
   ],
   "source": [
    "student='school'\n",
    "if student=='class party':\n",
    "    print('this is reg day')\n",
    "elif student=='bangladesh':\n",
    "    print('this is a school')\n",
    "else:\n",
    "    print('i love coding')"
   ]
  },
  {
   "cell_type": "code",
   "execution_count": 14,
   "metadata": {},
   "outputs": [
    {
     "name": "stdout",
     "output_type": "stream",
     "text": [
      "dollar means 84 taka\n"
     ]
    }
   ],
   "source": [
    "dollar='taka'\n",
    "if dollar=='dhaka':\n",
    "    print('this is my dhaka')\n",
    "elif dollar=='money':\n",
    "    print('khaiba ni honey')\n",
    "elif dollar=='kollar':\n",
    "    print('khaiba ni kollar')\n",
    "elif dollar=='mollar':\n",
    "    print('what are you doing now')\n",
    "elif dollar=='taka':\n",
    "    print('dollar means 84 taka')\n",
    "else:\n",
    "    print('i am learning')"
   ]
  },
  {
   "cell_type": "code",
   "execution_count": 26,
   "metadata": {},
   "outputs": [
    {
     "name": "stdout",
     "output_type": "stream",
     "text": [
      "i am learning\n"
     ]
    }
   ],
   "source": [
    "dollar='taka'\n",
    "if dollar=='dhaka':\n",
    "    print('this is my dhaka')\n",
    "elif dollar=='money':\n",
    "    print('khaiba ni honey')\n",
    "elif dollar=='kollar':\n",
    "    print('khaiba ni kollar')\n",
    "elif dollar=='mollar':\n",
    "    print('what are you doing now')\n",
    "elif dollar=='rupi':\n",
    "    print('dollar means 84 taka')\n",
    "else:\n",
    "    print('i am learning')"
   ]
  }
 ],
 "metadata": {
  "kernelspec": {
   "display_name": "Python 3",
   "language": "python",
   "name": "python3"
  },
  "language_info": {
   "codemirror_mode": {
    "name": "ipython",
    "version": 3
   },
   "file_extension": ".py",
   "mimetype": "text/x-python",
   "name": "python",
   "nbconvert_exporter": "python",
   "pygments_lexer": "ipython3",
   "version": "3.6.4"
  }
 },
 "nbformat": 4,
 "nbformat_minor": 2
}
