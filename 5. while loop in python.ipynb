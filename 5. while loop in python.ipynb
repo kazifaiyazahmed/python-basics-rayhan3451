{
 "cells": [
  {
   "cell_type": "code",
   "execution_count": 1,
   "metadata": {},
   "outputs": [],
   "source": [
    "# Syntax of a while loop\n",
    "#while some_boolean_condition :\n",
    "    #do something\n",
    "#else:\n",
    "    #do something different"
   ]
  },
  {
   "cell_type": "code",
   "execution_count": 4,
   "metadata": {},
   "outputs": [
    {
     "name": "stdout",
     "output_type": "stream",
     "text": [
      "the value of a is : 0\n",
      "the value of a is : 1\n",
      "the value of a is : 2\n",
      "the value of a is : 3\n",
      "the value of a is : 4\n"
     ]
    }
   ],
   "source": [
    "a=0\n",
    "while a<5:\n",
    "    print(f'the value of a is : {a}')\n",
    "    a+=1 # a=a+1"
   ]
  },
  {
   "cell_type": "code",
   "execution_count": 7,
   "metadata": {},
   "outputs": [
    {
     "name": "stdout",
     "output_type": "stream",
     "text": [
      "a is not less than five\n"
     ]
    }
   ],
   "source": [
    "a=0\n",
    "while a>5:\n",
    "    print(f'the value of a is : {a}')\n",
    "    a+=1\n",
    "else:\n",
    "    print('a is not less than five')"
   ]
  },
  {
   "cell_type": "code",
   "execution_count": 11,
   "metadata": {},
   "outputs": [],
   "source": [
    "# Three statement :\n",
    "# pass\n",
    "# continue\n",
    "# break"
   ]
  },
  {
   "cell_type": "code",
   "execution_count": 14,
   "metadata": {},
   "outputs": [],
   "source": [
    "# pass statement\n",
    "z=[4,5,6,8]\n",
    "for item in z:\n",
    "    pass # no error"
   ]
  },
  {
   "cell_type": "code",
   "execution_count": 15,
   "metadata": {},
   "outputs": [
    {
     "name": "stdout",
     "output_type": "stream",
     "text": [
      "D\n",
      "d\n",
      "d\n",
      "y\n"
     ]
    }
   ],
   "source": [
    "# continue statement\n",
    "my_sentence=\"Daddy\"\n",
    "for letter in my_sentence:\n",
    "    if letter=='a':\n",
    "        continue\n",
    "    print(letter)"
   ]
  },
  {
   "cell_type": "code",
   "execution_count": 17,
   "metadata": {},
   "outputs": [
    {
     "name": "stdout",
     "output_type": "stream",
     "text": [
      "a\n",
      "m\n",
      "m\n"
     ]
    }
   ],
   "source": [
    "# break statement\n",
    "my_sentence='ammu'\n",
    "for letter in my_sentence:\n",
    "    if letter=='u':\n",
    "        break\n",
    "    print(letter)"
   ]
  },
  {
   "cell_type": "code",
   "execution_count": 19,
   "metadata": {},
   "outputs": [
    {
     "name": "stdout",
     "output_type": "stream",
     "text": [
      "0\n",
      "1\n",
      "2\n"
     ]
    }
   ],
   "source": [
    "# break statement\n",
    "a=0\n",
    "while a<5:\n",
    "    if a==3:\n",
    "        break\n",
    "    print(a)\n",
    "    a=a+1"
   ]
  }
 ],
 "metadata": {
  "kernelspec": {
   "display_name": "Python 3",
   "language": "python",
   "name": "python3"
  },
  "language_info": {
   "codemirror_mode": {
    "name": "ipython",
    "version": 3
   },
   "file_extension": ".py",
   "mimetype": "text/x-python",
   "name": "python",
   "nbconvert_exporter": "python",
   "pygments_lexer": "ipython3",
   "version": "3.6.4"
  }
 },
 "nbformat": 4,
 "nbformat_minor": 2
}
